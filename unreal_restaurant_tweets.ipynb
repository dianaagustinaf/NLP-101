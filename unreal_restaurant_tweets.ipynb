{
  "cells": [
    {
      "cell_type": "code",
      "execution_count": 4,
      "metadata": {
        "id": "bbxiwgkurXRp",
        "colab": {
          "base_uri": "https://localhost:8080/"
        },
        "outputId": "21a00984-d618-4a5b-a482-1a0ccc73da2e"
      },
      "outputs": [
        {
          "output_type": "stream",
          "name": "stdout",
          "text": [
            "\r0% [Working]\r            \rHit:1 http://security.ubuntu.com/ubuntu bionic-security InRelease\n",
            "\r0% [Waiting for headers] [Connected to cloud.r-project.org (108.157.162.103)] [\r                                                                               \rHit:2 http://archive.ubuntu.com/ubuntu bionic InRelease\n",
            "\r0% [Waiting for headers] [Connected to cloud.r-project.org (108.157.162.103)] [\r0% [1 InRelease gpgv 88.7 kB] [Waiting for headers] [Connected to cloud.r-proje\r                                                                               \rHit:3 https://developer.download.nvidia.com/compute/cuda/repos/ubuntu1804/x86_64  InRelease\n",
            "\r0% [1 InRelease gpgv 88.7 kB] [Waiting for headers] [Connected to cloud.r-proje\r                                                                               \rHit:4 http://archive.ubuntu.com/ubuntu bionic-updates InRelease\n",
            "\r0% [1 InRelease gpgv 88.7 kB] [Connected to cloud.r-project.org (108.157.162.10\r                                                                               \rHit:5 https://cloud.r-project.org/bin/linux/ubuntu bionic-cran40/ InRelease\n",
            "\r0% [1 InRelease gpgv 88.7 kB] [Waiting for headers] [Waiting for headers] [Wait\r                                                                               \rHit:6 http://archive.ubuntu.com/ubuntu bionic-backports InRelease\n",
            "Hit:7 http://ppa.launchpad.net/c2d4u.team/c2d4u4.0+/ubuntu bionic InRelease\n",
            "Ign:8 https://developer.download.nvidia.com/compute/machine-learning/repos/ubuntu1804/x86_64  InRelease\n",
            "Hit:9 https://developer.download.nvidia.com/compute/machine-learning/repos/ubuntu1804/x86_64  Release\n",
            "Hit:10 http://ppa.launchpad.net/cran/libgit2/ubuntu bionic InRelease\n",
            "Hit:11 http://ppa.launchpad.net/deadsnakes/ppa/ubuntu bionic InRelease\n",
            "Hit:12 http://ppa.launchpad.net/graphics-drivers/ppa/ubuntu bionic InRelease\n",
            "Reading package lists... Done\n"
          ]
        }
      ],
      "source": [
        "import os\n",
        "# Find the latest version of spark 3.0  from http://www.apache.org/dist/spark/ and enter as the spark version\n",
        "# For example:\n",
        "# spark_version = 'spark-3.0.3'\n",
        "spark_version = 'spark-3.0.3'\n",
        "\n",
        "os.environ['SPARK_VERSION']=spark_version\n",
        "\n",
        "# Install Spark and Java\n",
        "!apt-get update\n",
        "!apt-get install openjdk-8-jdk-headless -qq > /dev/null\n",
        "!wget -q http://www.apache.org/dist/spark/$SPARK_VERSION/$SPARK_VERSION-bin-hadoop2.7.tgz\n",
        "!tar xf $SPARK_VERSION-bin-hadoop2.7.tgz\n",
        "!pip install -q findspark\n",
        "\n",
        "# Set Environment Variables\n",
        "os.environ[\"JAVA_HOME\"] = \"/usr/lib/jvm/java-8-openjdk-amd64\"\n",
        "os.environ[\"SPARK_HOME\"] = f\"/content/{spark_version}-bin-hadoop2.7\"\n",
        "\n",
        "# Start a SparkSession\n",
        "import findspark\n",
        "findspark.init()"
      ]
    },
    {
      "cell_type": "code",
      "execution_count": 5,
      "metadata": {
        "id": "XBhFOsiSpcU5"
      },
      "outputs": [],
      "source": [
        "# Start Spark session\n",
        "from pyspark.sql import SparkSession\n",
        "spark = SparkSession.builder.appName(\"Hashing\").getOrCreate()"
      ]
    },
    {
      "cell_type": "code",
      "execution_count": 6,
      "metadata": {
        "id": "Gm2w7_HVrbzG"
      },
      "outputs": [],
      "source": [
        "from pyspark.ml.feature import HashingTF, IDF, Tokenizer, StopWordsRemover"
      ]
    },
    {
      "cell_type": "code",
      "execution_count": 7,
      "metadata": {
        "colab": {
          "base_uri": "https://localhost:8080/"
        },
        "id": "HzR-jqELrdL0",
        "outputId": "7cb9c075-b4a4-42f9-c973-15d3f7e75b45"
      },
      "outputs": [
        {
          "output_type": "stream",
          "name": "stdout",
          "text": [
            "+--------------------+\n",
            "|   Restaurant Tweets|\n",
            "+--------------------+\n",
            "|@UnrealRestaurant...|\n",
            "|@UnrealRestaurant...|\n",
            "|@UnrealRestaurant...|\n",
            "|@UnrealRestaurant...|\n",
            "|\"@UnrealRestauran...|\n",
            "+--------------------+\n",
            "\n"
          ]
        }
      ],
      "source": [
        "# Read in data from S3 Buckets\n",
        "from pyspark import SparkFiles\n",
        "url =\"https://2u-data-curriculum-team.s3.amazonaws.com/dataviz-classroom/v1.1/22-big-data/day_2/unreal_restaurant_tweets.csv\"\n",
        "spark.sparkContext.addFile(url)\n",
        "df = spark.read.csv(SparkFiles.get(\"unreal_restaurant_tweets.csv\"), sep=\",\", header=True)\n",
        "\n",
        "# Show DataFrame\n",
        "df.show()"
      ]
    },
    {
      "cell_type": "code",
      "execution_count": 9,
      "metadata": {
        "id": "h9tlAbZ2relU",
        "colab": {
          "base_uri": "https://localhost:8080/"
        },
        "outputId": "e75d0658-d1c2-4b1e-e124-18654e079a88"
      },
      "outputs": [
        {
          "output_type": "stream",
          "name": "stdout",
          "text": [
            "+--------------------+--------------------+\n",
            "|   Restaurant Tweets|              tokens|\n",
            "+--------------------+--------------------+\n",
            "|@UnrealRestaurant...|[@unrealrestauran...|\n",
            "|@UnrealRestaurant...|[@unrealrestauran...|\n",
            "|@UnrealRestaurant...|[@unrealrestauran...|\n",
            "|@UnrealRestaurant...|[@unrealrestauran...|\n",
            "|\"@UnrealRestauran...|[\"@unrealrestaura...|\n",
            "+--------------------+--------------------+\n",
            "\n"
          ]
        }
      ],
      "source": [
        "# Tokenize DataFrame\n",
        "tokenizer = Tokenizer(inputCol=\"Restaurant Tweets\", outputCol=\"tokens\")\n",
        "wordsData = tokenizer.transform(df)\n",
        "wordsData.show()"
      ]
    },
    {
      "cell_type": "code",
      "execution_count": 10,
      "metadata": {
        "id": "8oGgjAHcrfw0",
        "colab": {
          "base_uri": "https://localhost:8080/"
        },
        "outputId": "ad3903d1-39f8-4d03-deaf-d5f7c8eee0ea"
      },
      "outputs": [
        {
          "output_type": "stream",
          "name": "stdout",
          "text": [
            "+----------------------------------------------------------------------------------------------------------------------+---------------------------------------------------------------------------------------------------------------------------------------+-------------------------------------------------------------------------------------------------------------+\n",
            "|Restaurant Tweets                                                                                                     |tokens                                                                                                                                 |filtered                                                                                                     |\n",
            "+----------------------------------------------------------------------------------------------------------------------+---------------------------------------------------------------------------------------------------------------------------------------+-------------------------------------------------------------------------------------------------------------+\n",
            "|@UnrealRestaurant service was super slow today. Pick up your game, or I'm not going back.                             |[@unrealrestaurant, service, was, super, slow, today., pick, up, your, game,, or, i'm, not, going, back.]                              |[@unrealrestaurant, service, super, slow, today., pick, game,, going, back.]                                 |\n",
            "|@UnrealRestaurant Not so sure about the underwater restaurant experience. Kinda felt like I was drowning.             |[@unrealrestaurant, not, so, sure, about, the, underwater, restaurant, experience., kinda, felt, like, i, was, drowning.]              |[@unrealrestaurant, sure, underwater, restaurant, experience., kinda, felt, like, drowning.]                 |\n",
            "|@UnrealRestaurant when I'm away, you're all I think about. You make me feel like a natural mermaid.                   |[@unrealrestaurant, when, i'm, away,, you're, all, i, think, about., you, make, me, feel, like, a, natural, mermaid.]                  |[@unrealrestaurant, away,, think, about., make, feel, like, natural, mermaid.]                               |\n",
            "|@UnrealRestaurant Are your opening hours listed online accurate? You were closed at 4pm Monday.                       |[@unrealrestaurant, are, your, opening, hours, listed, online, accurate?, you, were, closed, at, 4pm, monday.]                         |[@unrealrestaurant, opening, hours, listed, online, accurate?, closed, 4pm, monday.]                         |\n",
            "|\"@UnrealRestaurant The \"\"pineapple-under-the-sea\"\" menu item makes me feel bad for Spongebob. Don't eat his house. :(\"|[\"@unrealrestaurant, the, \"\"pineapple-under-the-sea\"\", menu, item, makes, me, feel, bad, for, spongebob., don't, eat, his, house., :(\"]|[\"@unrealrestaurant, \"\"pineapple-under-the-sea\"\", menu, item, makes, feel, bad, spongebob., eat, house., :(\"]|\n",
            "+----------------------------------------------------------------------------------------------------------------------+---------------------------------------------------------------------------------------------------------------------------------------+-------------------------------------------------------------------------------------------------------------+\n",
            "\n"
          ]
        }
      ],
      "source": [
        "# Remove stop words\n",
        "# Instantiate Remover\n",
        "remover = StopWordsRemover(inputCol=\"tokens\", outputCol=\"filtered\")\n",
        "# Transform and show data\n",
        "remover.transform(wordsData).show(truncate=False)"
      ]
    },
    {
      "cell_type": "code",
      "execution_count": 11,
      "metadata": {
        "id": "aghpXi5Crg8t"
      },
      "outputs": [],
      "source": [
        "# Run the hashing term frequency\n",
        "hashing = HashingTF(inputCol=\"tokens\", outputCol=\"hashedValues\")\n",
        "\n",
        "# Transform into a DF\n",
        "hashed_df = hashing.transform(wordsData)\n"
      ]
    },
    {
      "cell_type": "code",
      "source": [
        "# Display new DataFrame\n",
        "hashed_df.show(truncate=False)"
      ],
      "metadata": {
        "colab": {
          "base_uri": "https://localhost:8080/"
        },
        "id": "PeDXtSLw7ljZ",
        "outputId": "8b9bab80-2de0-45dc-b8e5-bb004e6a657b"
      },
      "execution_count": 12,
      "outputs": [
        {
          "output_type": "stream",
          "name": "stdout",
          "text": [
            "+----------------------------------------------------------------------------------------------------------------------+---------------------------------------------------------------------------------------------------------------------------------------+----------------------------------------------------------------------------------------------------------------------------------------------------------------------------------------------+\n",
            "|Restaurant Tweets                                                                                                     |tokens                                                                                                                                 |hashedValues                                                                                                                                                                                  |\n",
            "+----------------------------------------------------------------------------------------------------------------------+---------------------------------------------------------------------------------------------------------------------------------------+----------------------------------------------------------------------------------------------------------------------------------------------------------------------------------------------+\n",
            "|@UnrealRestaurant service was super slow today. Pick up your game, or I'm not going back.                             |[@unrealrestaurant, service, was, super, slow, today., pick, up, your, game,, or, i'm, not, going, back.]                              |(262144,[15513,27707,43756,55039,58339,77767,99211,102382,104220,119453,127310,141086,184689,210090,221693],[1.0,1.0,1.0,1.0,1.0,1.0,1.0,1.0,1.0,1.0,1.0,1.0,1.0,1.0,1.0])                    |\n",
            "|@UnrealRestaurant Not so sure about the underwater restaurant experience. Kinda felt like I was drowning.             |[@unrealrestaurant, not, so, sure, about, the, underwater, restaurant, experience., kinda, felt, like, i, was, drowning.]              |(262144,[15513,18700,19036,30497,53839,95889,99211,117491,130345,134125,172780,175529,208258,221693,245912],[1.0,1.0,1.0,1.0,1.0,1.0,1.0,1.0,1.0,1.0,1.0,1.0,1.0,1.0,1.0])                    |\n",
            "|@UnrealRestaurant when I'm away, you're all I think about. You make me feel like a natural mermaid.                   |[@unrealrestaurant, when, i'm, away,, you're, all, i, think, about., you, make, me, feel, like, a, natural, mermaid.]                  |(262144,[15513,19036,24980,33211,42404,50001,54800,61899,89717,107107,141086,153423,153484,208258,214962,230912,256508],[1.0,1.0,1.0,1.0,1.0,1.0,1.0,1.0,1.0,1.0,1.0,1.0,1.0,1.0,1.0,1.0,1.0])|\n",
            "|@UnrealRestaurant Are your opening hours listed online accurate? You were closed at 4pm Monday.                       |[@unrealrestaurant, are, your, opening, hours, listed, online, accurate?, you, were, closed, at, 4pm, monday.]                         |(262144,[8408,15513,50671,55039,58267,96266,103159,109526,111255,187114,204359,214962,241088,253170],[1.0,1.0,1.0,1.0,1.0,1.0,1.0,1.0,1.0,1.0,1.0,1.0,1.0,1.0])                               |\n",
            "|\"@UnrealRestaurant The \"\"pineapple-under-the-sea\"\" menu item makes me feel bad for Spongebob. Don't eat his house. :(\"|[\"@unrealrestaurant, the, \"\"pineapple-under-the-sea\"\", menu, item, makes, me, feel, bad, for, spongebob., don't, eat, his, house., :(\"]|(262144,[7221,42605,49120,50001,61899,87549,95889,106776,122012,145380,148423,151571,199581,202572,225459,245420],[1.0,1.0,1.0,1.0,1.0,1.0,1.0,1.0,1.0,1.0,1.0,1.0,1.0,1.0,1.0,1.0])          |\n",
            "+----------------------------------------------------------------------------------------------------------------------+---------------------------------------------------------------------------------------------------------------------------------------+----------------------------------------------------------------------------------------------------------------------------------------------------------------------------------------------+\n",
            "\n"
          ]
        }
      ]
    },
    {
      "cell_type": "code",
      "execution_count": 13,
      "metadata": {
        "id": "uG0XxfVbriGU"
      },
      "outputs": [],
      "source": [
        "# Fit the IDF on the data set \n",
        "idf = IDF(inputCol=\"hashedValues\", outputCol=\"features\")\n",
        "idfModel = idf.fit(hashed_df)\n",
        "rescaledData = idfModel.transform(hashed_df)"
      ]
    },
    {
      "cell_type": "code",
      "execution_count": 14,
      "metadata": {
        "id": "-77C8Ma6rjG8",
        "colab": {
          "base_uri": "https://localhost:8080/"
        },
        "outputId": "125cc012-35b6-4028-cc86-a5abedda2af7"
      },
      "outputs": [
        {
          "output_type": "stream",
          "name": "stdout",
          "text": [
            "+---------------------------------------------------------------------------------------------------------------------------------------+-------------------------------------------------------------------------------------------------------------------------------------------------------------------------------------------------------------------------------------------------------------------------------------------------------------------------------------------------------------------------------------------------------------------------------------------------------------+\n",
            "|tokens                                                                                                                                 |features                                                                                                                                                                                                                                                                                                                                                                                                                                                     |\n",
            "+---------------------------------------------------------------------------------------------------------------------------------------+-------------------------------------------------------------------------------------------------------------------------------------------------------------------------------------------------------------------------------------------------------------------------------------------------------------------------------------------------------------------------------------------------------------------------------------------------------------+\n",
            "|[@unrealrestaurant, service, was, super, slow, today., pick, up, your, game,, or, i'm, not, going, back.]                              |(262144,[15513,27707,43756,55039,58339,77767,99211,102382,104220,119453,127310,141086,184689,210090,221693],[0.1823215567939546,1.0986122886681098,1.0986122886681098,0.6931471805599453,1.0986122886681098,1.0986122886681098,0.6931471805599453,1.0986122886681098,1.0986122886681098,1.0986122886681098,1.0986122886681098,0.6931471805599453,1.0986122886681098,1.0986122886681098,0.6931471805599453])                                                  |\n",
            "|[@unrealrestaurant, not, so, sure, about, the, underwater, restaurant, experience., kinda, felt, like, i, was, drowning.]              |(262144,[15513,18700,19036,30497,53839,95889,99211,117491,130345,134125,172780,175529,208258,221693,245912],[0.1823215567939546,1.0986122886681098,0.6931471805599453,1.0986122886681098,1.0986122886681098,0.6931471805599453,0.6931471805599453,1.0986122886681098,1.0986122886681098,1.0986122886681098,1.0986122886681098,1.0986122886681098,0.6931471805599453,0.6931471805599453,1.0986122886681098])                                                  |\n",
            "|[@unrealrestaurant, when, i'm, away,, you're, all, i, think, about., you, make, me, feel, like, a, natural, mermaid.]                  |(262144,[15513,19036,24980,33211,42404,50001,54800,61899,89717,107107,141086,153423,153484,208258,214962,230912,256508],[0.1823215567939546,0.6931471805599453,1.0986122886681098,1.0986122886681098,1.0986122886681098,0.6931471805599453,1.0986122886681098,0.6931471805599453,1.0986122886681098,1.0986122886681098,0.6931471805599453,1.0986122886681098,1.0986122886681098,0.6931471805599453,0.6931471805599453,1.0986122886681098,1.0986122886681098])|\n",
            "|[@unrealrestaurant, are, your, opening, hours, listed, online, accurate?, you, were, closed, at, 4pm, monday.]                         |(262144,[8408,15513,50671,55039,58267,96266,103159,109526,111255,187114,204359,214962,241088,253170],[1.0986122886681098,0.1823215567939546,1.0986122886681098,0.6931471805599453,1.0986122886681098,1.0986122886681098,1.0986122886681098,1.0986122886681098,1.0986122886681098,1.0986122886681098,1.0986122886681098,0.6931471805599453,1.0986122886681098,1.0986122886681098])                                                                            |\n",
            "|[\"@unrealrestaurant, the, \"\"pineapple-under-the-sea\"\", menu, item, makes, me, feel, bad, for, spongebob., don't, eat, his, house., :(\"]|(262144,[7221,42605,49120,50001,61899,87549,95889,106776,122012,145380,148423,151571,199581,202572,225459,245420],[1.0986122886681098,1.0986122886681098,1.0986122886681098,0.6931471805599453,0.6931471805599453,1.0986122886681098,0.6931471805599453,1.0986122886681098,1.0986122886681098,1.0986122886681098,1.0986122886681098,1.0986122886681098,1.0986122886681098,1.0986122886681098,1.0986122886681098,1.0986122886681098])                         |\n",
            "+---------------------------------------------------------------------------------------------------------------------------------------+-------------------------------------------------------------------------------------------------------------------------------------------------------------------------------------------------------------------------------------------------------------------------------------------------------------------------------------------------------------------------------------------------------------------------------------------------------------+\n",
            "\n"
          ]
        }
      ],
      "source": [
        "# Display the DataFrame\n",
        "rescaledData.select(\"tokens\", \"features\").show(truncate=False)"
      ]
    },
    {
      "cell_type": "code",
      "execution_count": null,
      "metadata": {
        "id": "1hC7h8jArkgs"
      },
      "outputs": [],
      "source": [
        ""
      ]
    }
  ],
  "metadata": {
    "colab": {
      "name": "unreal_restaurant_tweets.ipynb",
      "provenance": [],
      "collapsed_sections": []
    },
    "kernelspec": {
      "display_name": "Python 3",
      "language": "python",
      "name": "python3"
    },
    "language_info": {
      "codemirror_mode": {
        "name": "ipython",
        "version": 3
      },
      "file_extension": ".py",
      "mimetype": "text/x-python",
      "name": "python",
      "nbconvert_exporter": "python",
      "pygments_lexer": "ipython3",
      "version": "3.7.4"
    },
    "latex_envs": {
      "LaTeX_envs_menu_present": true,
      "autoclose": false,
      "autocomplete": true,
      "bibliofile": "biblio.bib",
      "cite_by": "apalike",
      "current_citInitial": 1,
      "eqLabelWithNumbers": true,
      "eqNumInitial": 1,
      "hotkeys": {
        "equation": "Ctrl-E",
        "itemize": "Ctrl-I"
      },
      "labels_anchors": false,
      "latex_user_defs": false,
      "report_style_numbering": false,
      "user_envs_cfg": false
    }
  },
  "nbformat": 4,
  "nbformat_minor": 0
}